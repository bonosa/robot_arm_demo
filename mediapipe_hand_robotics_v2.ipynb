{
  "cells": [
    {
      "cell_type": "markdown",
      "metadata": {
        "id": "view-in-github",
        "colab_type": "text"
      },
      "source": [
        "<a href=\"https://colab.research.google.com/github/bonosa/robot_arm_demo/blob/main/mediapipe_hand_robotics_v2.ipynb\" target=\"_parent\"><img src=\"https://colab.research.google.com/assets/colab-badge.svg\" alt=\"Open In Colab\"/></a>"
      ]
    },
    {
      "cell_type": "markdown",
      "id": "f790d1bd",
      "metadata": {
        "id": "f790d1bd"
      },
      "source": [
        "# MediaPipe Hand Tracking → Robotics (Colab Notebook)\n",
        "End‑to‑end pipeline: capture 21 hand landmarks with MediaPipe, convert them to joint angles, and optionally log a dataset for ML."
      ]
    },
    {
      "cell_type": "code",
      "execution_count": 4,
      "id": "46a87504",
      "metadata": {
        "id": "46a87504"
      },
      "outputs": [],
      "source": [
        "!pip install -q \"protobuf<4\" mediapipe==0.10.9 opencv-python h5py >log.txt"
      ]
    },
    {
      "cell_type": "code",
      "source": [
        "import mediapipe as mp, cv2, numpy as np\n",
        "print(\"MediaPipe version:\", mp.__version__)\n"
      ],
      "metadata": {
        "colab": {
          "base_uri": "https://localhost:8080/"
        },
        "id": "hoEkjqAOXHRA",
        "outputId": "84c0dd66-7d87-49f5-b889-0e8e1d5f217b"
      },
      "id": "hoEkjqAOXHRA",
      "execution_count": 5,
      "outputs": [
        {
          "output_type": "stream",
          "name": "stdout",
          "text": [
            "MediaPipe version: 0.10.9\n"
          ]
        }
      ]
    },
    {
      "cell_type": "code",
      "source": [
        "print (error.stderr)\n"
      ],
      "metadata": {
        "colab": {
          "base_uri": "https://localhost:8080/",
          "height": 141
        },
        "id": "-4Ele34BWCF0",
        "outputId": "7b92af31-a25f-400a-c4f3-605949ca423b"
      },
      "id": "-4Ele34BWCF0",
      "execution_count": 3,
      "outputs": [
        {
          "output_type": "error",
          "ename": "NameError",
          "evalue": "name 'error' is not defined",
          "traceback": [
            "\u001b[0;31m---------------------------------------------------------------------------\u001b[0m",
            "\u001b[0;31mNameError\u001b[0m                                 Traceback (most recent call last)",
            "\u001b[0;32m/tmp/ipython-input-3-3084982223.py\u001b[0m in \u001b[0;36m<cell line: 0>\u001b[0;34m()\u001b[0m\n\u001b[0;32m----> 1\u001b[0;31m \u001b[0mprint\u001b[0m \u001b[0;34m(\u001b[0m\u001b[0merror\u001b[0m\u001b[0;34m.\u001b[0m\u001b[0mstderr\u001b[0m\u001b[0;34m)\u001b[0m\u001b[0;34m\u001b[0m\u001b[0;34m\u001b[0m\u001b[0m\n\u001b[0m",
            "\u001b[0;31mNameError\u001b[0m: name 'error' is not defined"
          ]
        }
      ]
    },
    {
      "cell_type": "markdown",
      "id": "c55de9bf",
      "metadata": {
        "id": "c55de9bf"
      },
      "source": [
        "## Initialise tracker"
      ]
    },
    {
      "cell_type": "code",
      "execution_count": 6,
      "id": "ebe9ae52",
      "metadata": {
        "colab": {
          "base_uri": "https://localhost:8080/"
        },
        "id": "ebe9ae52",
        "outputId": "fb27d5ad-1387-44aa-9c6d-2bdae375082c"
      },
      "outputs": [
        {
          "output_type": "stream",
          "name": "stdout",
          "text": [
            "MediaPipe Hands initialised ✔️\n"
          ]
        }
      ],
      "source": [
        "import cv2, mediapipe as mp, numpy as np\n",
        "\n",
        "mp_hands = mp.solutions.hands\n",
        "hands = mp_hands.Hands(\n",
        "    static_image_mode=False,\n",
        "    max_num_hands=1,\n",
        "    model_complexity=1,\n",
        "    min_detection_confidence=0.6,\n",
        "    min_tracking_confidence=0.6,\n",
        ")\n",
        "print(\"MediaPipe Hands initialised ✔️\")"
      ]
    },
    {
      "cell_type": "markdown",
      "id": "59941c3e",
      "metadata": {
        "id": "59941c3e"
      },
      "source": [
        "## Helper: extract 21 × 3 landmark array from a frame"
      ]
    },
    {
      "cell_type": "code",
      "execution_count": 7,
      "id": "df28c997",
      "metadata": {
        "id": "df28c997"
      },
      "outputs": [],
      "source": [
        "def get_landmarks(frame):\n",
        "    \"\"\"Return a (21, 3) ndarray of (x, y, z) or None if no hand detected.\"\"\"\n",
        "    rgb = cv2.cvtColor(frame, cv2.COLOR_BGR2RGB)\n",
        "    res = hands.process(rgb)\n",
        "    if res.multi_hand_landmarks:\n",
        "        lm = res.multi_hand_landmarks[0]\n",
        "        return np.array([(p.x, p.y, p.z) for p in lm.landmark], dtype=np.float32)\n",
        "    return None"
      ]
    },
    {
      "cell_type": "markdown",
      "id": "092f9a11",
      "metadata": {
        "id": "092f9a11"
      },
      "source": [
        "## Helper: convert landmarks → finger‑joint angles (degrees)"
      ]
    },
    {
      "cell_type": "code",
      "execution_count": 8,
      "id": "8bed4496",
      "metadata": {
        "id": "8bed4496"
      },
      "outputs": [],
      "source": [
        "# Mapping of finger bones: (proximal idx, joint idx, distal idx)\n",
        "_triplets = {\n",
        "    'thumb_MCP':  (0,  2,  4),\n",
        "    'index_MCP':  (0,  5,  8),\n",
        "    'index_PIP':  (5,  6,  8),\n",
        "    'index_DIP':  (6,  7,  8),\n",
        "    'middle_MCP': (0,  9, 12),\n",
        "    'middle_PIP': (9, 10, 12),\n",
        "    'middle_DIP': (10,11,12),\n",
        "    'ring_MCP':   (0, 13, 16),\n",
        "    'ring_PIP':   (13,14,16),\n",
        "    'ring_DIP':   (14,15,16),\n",
        "    'pinky_MCP':  (0, 17, 20),\n",
        "    'pinky_PIP':  (17,18,20),\n",
        "    'pinky_DIP':  (18,19,20),\n",
        "}\n",
        "\n",
        "def bone_angle(a, b, c):\n",
        "    \"\"\"Return angle ABC in degrees.\"\"\"\n",
        "    ba, bc = a - b, c - b\n",
        "    cosang = np.clip(\n",
        "        np.dot(ba, bc) / (np.linalg.norm(ba) * np.linalg.norm(bc) + 1e-8),\n",
        "        -1.0, 1.0\n",
        "    )\n",
        "    return float(np.degrees(np.arccos(cosang)))\n",
        "\n",
        "def landmarks_to_angles(lm):\n",
        "    \"\"\"Map 21 × 3 landmarks → dict of named joint angles.\"\"\"\n",
        "    return {name: bone_angle(lm[i], lm[j], lm[k]) for name, (i, j, k) in _triplets.items()}"
      ]
    },
    {
      "cell_type": "markdown",
      "id": "c352e696",
      "metadata": {
        "id": "c352e696"
      },
      "source": [
        "## (Optional) HDF5 logger: store landmarks + joint angles"
      ]
    },
    {
      "cell_type": "code",
      "execution_count": 9,
      "id": "cc9301ec",
      "metadata": {
        "id": "cc9301ec"
      },
      "outputs": [],
      "source": [
        "import h5py, time\n",
        "\n",
        "def create_session(path=\"teleop_sessions.h5\"):\n",
        "    h5 = h5py.File(path, \"a\")\n",
        "    grp = h5.create_group(f\"session_{int(time.time())}\")\n",
        "    grp.create_dataset(\"landmarks\", (0,21,3), maxshape=(None,21,3), chunks=True)\n",
        "    grp.create_dataset(\"joint_angles\", (0,len(_triplets)), maxshape=(None,len(_triplets)), chunks=True)\n",
        "    return h5, grp\n",
        "\n",
        "def append_frame(grp, lm, ang):\n",
        "    ls, js = grp[\"landmarks\"], grp[\"joint_angles\"]\n",
        "    idx = ls.shape[0]\n",
        "    ls.resize(idx+1, axis=0)\n",
        "    js.resize(idx+1, axis=0)\n",
        "    ls[idx] = lm\n",
        "    js[idx] = [ang[k] for k in _triplets.keys()]"
      ]
    },
    {
      "cell_type": "code",
      "source": [
        "import cv2\n",
        "\n",
        "# --- adjust if your frames are a different size or FPS\n",
        "FRAME_SIZE = (640, 480)\n",
        "FPS        = 30.0\n",
        "\n",
        "fourcc = cv2.VideoWriter_fourcc(*'mp4v')          # MP4 codec\n",
        "out    = cv2.VideoWriter('annotated.mp4',\n",
        "                         fourcc,\n",
        "                         FPS,\n",
        "                         FRAME_SIZE)\n",
        "print(\"VideoWriter ready ✔️\")\n"
      ],
      "metadata": {
        "colab": {
          "base_uri": "https://localhost:8080/"
        },
        "id": "6hMh64txa6jV",
        "outputId": "3770fb2b-a677-462f-ff77-2648e67d4420"
      },
      "id": "6hMh64txa6jV",
      "execution_count": 11,
      "outputs": [
        {
          "output_type": "stream",
          "name": "stdout",
          "text": [
            "VideoWriter ready ✔️\n"
          ]
        }
      ]
    },
    {
      "cell_type": "markdown",
      "id": "a9240d74",
      "metadata": {
        "id": "a9240d74"
      },
      "source": [
        "## Demo: upload a short video, extract data"
      ]
    },
    {
      "cell_type": "code",
      "execution_count": 22,
      "id": "59d1f7dd",
      "metadata": {
        "colab": {
          "base_uri": "https://localhost:8080/",
          "height": 90
        },
        "id": "59d1f7dd",
        "outputId": "aba7f628-544e-49e3-f617-c91e8b5972f9"
      },
      "outputs": [
        {
          "output_type": "display_data",
          "data": {
            "text/plain": [
              "<IPython.core.display.HTML object>"
            ],
            "text/html": [
              "\n",
              "     <input type=\"file\" id=\"files-2c8a13a2-c12b-4a93-be28-97d3b820ed58\" name=\"files[]\" multiple disabled\n",
              "        style=\"border:none\" />\n",
              "     <output id=\"result-2c8a13a2-c12b-4a93-be28-97d3b820ed58\">\n",
              "      Upload widget is only available when the cell has been executed in the\n",
              "      current browser session. Please rerun this cell to enable.\n",
              "      </output>\n",
              "      <script>// Copyright 2017 Google LLC\n",
              "//\n",
              "// Licensed under the Apache License, Version 2.0 (the \"License\");\n",
              "// you may not use this file except in compliance with the License.\n",
              "// You may obtain a copy of the License at\n",
              "//\n",
              "//      http://www.apache.org/licenses/LICENSE-2.0\n",
              "//\n",
              "// Unless required by applicable law or agreed to in writing, software\n",
              "// distributed under the License is distributed on an \"AS IS\" BASIS,\n",
              "// WITHOUT WARRANTIES OR CONDITIONS OF ANY KIND, either express or implied.\n",
              "// See the License for the specific language governing permissions and\n",
              "// limitations under the License.\n",
              "\n",
              "/**\n",
              " * @fileoverview Helpers for google.colab Python module.\n",
              " */\n",
              "(function(scope) {\n",
              "function span(text, styleAttributes = {}) {\n",
              "  const element = document.createElement('span');\n",
              "  element.textContent = text;\n",
              "  for (const key of Object.keys(styleAttributes)) {\n",
              "    element.style[key] = styleAttributes[key];\n",
              "  }\n",
              "  return element;\n",
              "}\n",
              "\n",
              "// Max number of bytes which will be uploaded at a time.\n",
              "const MAX_PAYLOAD_SIZE = 100 * 1024;\n",
              "\n",
              "function _uploadFiles(inputId, outputId) {\n",
              "  const steps = uploadFilesStep(inputId, outputId);\n",
              "  const outputElement = document.getElementById(outputId);\n",
              "  // Cache steps on the outputElement to make it available for the next call\n",
              "  // to uploadFilesContinue from Python.\n",
              "  outputElement.steps = steps;\n",
              "\n",
              "  return _uploadFilesContinue(outputId);\n",
              "}\n",
              "\n",
              "// This is roughly an async generator (not supported in the browser yet),\n",
              "// where there are multiple asynchronous steps and the Python side is going\n",
              "// to poll for completion of each step.\n",
              "// This uses a Promise to block the python side on completion of each step,\n",
              "// then passes the result of the previous step as the input to the next step.\n",
              "function _uploadFilesContinue(outputId) {\n",
              "  const outputElement = document.getElementById(outputId);\n",
              "  const steps = outputElement.steps;\n",
              "\n",
              "  const next = steps.next(outputElement.lastPromiseValue);\n",
              "  return Promise.resolve(next.value.promise).then((value) => {\n",
              "    // Cache the last promise value to make it available to the next\n",
              "    // step of the generator.\n",
              "    outputElement.lastPromiseValue = value;\n",
              "    return next.value.response;\n",
              "  });\n",
              "}\n",
              "\n",
              "/**\n",
              " * Generator function which is called between each async step of the upload\n",
              " * process.\n",
              " * @param {string} inputId Element ID of the input file picker element.\n",
              " * @param {string} outputId Element ID of the output display.\n",
              " * @return {!Iterable<!Object>} Iterable of next steps.\n",
              " */\n",
              "function* uploadFilesStep(inputId, outputId) {\n",
              "  const inputElement = document.getElementById(inputId);\n",
              "  inputElement.disabled = false;\n",
              "\n",
              "  const outputElement = document.getElementById(outputId);\n",
              "  outputElement.innerHTML = '';\n",
              "\n",
              "  const pickedPromise = new Promise((resolve) => {\n",
              "    inputElement.addEventListener('change', (e) => {\n",
              "      resolve(e.target.files);\n",
              "    });\n",
              "  });\n",
              "\n",
              "  const cancel = document.createElement('button');\n",
              "  inputElement.parentElement.appendChild(cancel);\n",
              "  cancel.textContent = 'Cancel upload';\n",
              "  const cancelPromise = new Promise((resolve) => {\n",
              "    cancel.onclick = () => {\n",
              "      resolve(null);\n",
              "    };\n",
              "  });\n",
              "\n",
              "  // Wait for the user to pick the files.\n",
              "  const files = yield {\n",
              "    promise: Promise.race([pickedPromise, cancelPromise]),\n",
              "    response: {\n",
              "      action: 'starting',\n",
              "    }\n",
              "  };\n",
              "\n",
              "  cancel.remove();\n",
              "\n",
              "  // Disable the input element since further picks are not allowed.\n",
              "  inputElement.disabled = true;\n",
              "\n",
              "  if (!files) {\n",
              "    return {\n",
              "      response: {\n",
              "        action: 'complete',\n",
              "      }\n",
              "    };\n",
              "  }\n",
              "\n",
              "  for (const file of files) {\n",
              "    const li = document.createElement('li');\n",
              "    li.append(span(file.name, {fontWeight: 'bold'}));\n",
              "    li.append(span(\n",
              "        `(${file.type || 'n/a'}) - ${file.size} bytes, ` +\n",
              "        `last modified: ${\n",
              "            file.lastModifiedDate ? file.lastModifiedDate.toLocaleDateString() :\n",
              "                                    'n/a'} - `));\n",
              "    const percent = span('0% done');\n",
              "    li.appendChild(percent);\n",
              "\n",
              "    outputElement.appendChild(li);\n",
              "\n",
              "    const fileDataPromise = new Promise((resolve) => {\n",
              "      const reader = new FileReader();\n",
              "      reader.onload = (e) => {\n",
              "        resolve(e.target.result);\n",
              "      };\n",
              "      reader.readAsArrayBuffer(file);\n",
              "    });\n",
              "    // Wait for the data to be ready.\n",
              "    let fileData = yield {\n",
              "      promise: fileDataPromise,\n",
              "      response: {\n",
              "        action: 'continue',\n",
              "      }\n",
              "    };\n",
              "\n",
              "    // Use a chunked sending to avoid message size limits. See b/62115660.\n",
              "    let position = 0;\n",
              "    do {\n",
              "      const length = Math.min(fileData.byteLength - position, MAX_PAYLOAD_SIZE);\n",
              "      const chunk = new Uint8Array(fileData, position, length);\n",
              "      position += length;\n",
              "\n",
              "      const base64 = btoa(String.fromCharCode.apply(null, chunk));\n",
              "      yield {\n",
              "        response: {\n",
              "          action: 'append',\n",
              "          file: file.name,\n",
              "          data: base64,\n",
              "        },\n",
              "      };\n",
              "\n",
              "      let percentDone = fileData.byteLength === 0 ?\n",
              "          100 :\n",
              "          Math.round((position / fileData.byteLength) * 100);\n",
              "      percent.textContent = `${percentDone}% done`;\n",
              "\n",
              "    } while (position < fileData.byteLength);\n",
              "  }\n",
              "\n",
              "  // All done.\n",
              "  yield {\n",
              "    response: {\n",
              "      action: 'complete',\n",
              "    }\n",
              "  };\n",
              "}\n",
              "\n",
              "scope.google = scope.google || {};\n",
              "scope.google.colab = scope.google.colab || {};\n",
              "scope.google.colab._files = {\n",
              "  _uploadFiles,\n",
              "  _uploadFilesContinue,\n",
              "};\n",
              "})(self);\n",
              "</script> "
            ]
          },
          "metadata": {}
        },
        {
          "output_type": "stream",
          "name": "stdout",
          "text": [
            "Saving WIN_20250619_19_48_33_Pro.mp4 to WIN_20250619_19_48_33_Pro.mp4\n",
            "Source FPS ≈ 19.9, resolution (1280, 720) → writer ready ✔️\n"
          ]
        }
      ],
      "source": [
        "from google.colab import files\n",
        "import cv2\n",
        "\n",
        "# ── Upload a clip ─────────────────────────\n",
        "uploaded   = files.upload()\n",
        "video_path = next(iter(uploaded))          # first file\n",
        "cap        = cv2.VideoCapture(video_path)\n",
        "\n",
        "# ── Prepare the MP4 writer ───────────────\n",
        "FRAME_SIZE = (int(cap.get(cv2.CAP_PROP_FRAME_WIDTH)),\n",
        "              int(cap.get(cv2.CAP_PROP_FRAME_HEIGHT)))\n",
        "FPS        = cap.get(cv2.CAP_PROP_FPS) or 30.0          # fallback\n",
        "\n",
        "fourcc = cv2.VideoWriter_fourcc(*'mp4v')\n",
        "out    = cv2.VideoWriter('annotated.mp4', fourcc, FPS, FRAME_SIZE)\n",
        "\n",
        "# Optional: open your HDF5 session (unchanged)\n",
        "h5, grp = create_session()\n",
        "\n",
        "print(f\"Source FPS ≈ {FPS:.1f}, resolution {FRAME_SIZE} → writer ready ✔️\")\n"
      ]
    },
    {
      "cell_type": "code",
      "source": [
        "import mediapipe as mp, numpy as np\n",
        "from mediapipe.framework.formats import landmark_pb2   # ← NEW import\n",
        "\n",
        "mp_drawing = mp.solutions.drawing_utils\n",
        "mp_hands   = mp.solutions.hands\n",
        "\n",
        "while True:\n",
        "    ret, frame = cap.read()\n",
        "    if not ret:\n",
        "        break\n",
        "\n",
        "    lm = get_landmarks(frame)\n",
        "    if lm is None:\n",
        "        continue\n",
        "\n",
        "    # ── build an in-memory NormalizedLandmarkList ──────────────────\n",
        "    lm_list = landmark_pb2.NormalizedLandmarkList()\n",
        "    for x, y, z in lm:\n",
        "        lmk = lm_list.landmark.add()\n",
        "        lmk.x, lmk.y, lmk.z = float(x), float(y), float(z)\n",
        "\n",
        "    # ── draw the green skeleton ────────────────────────────────────\n",
        "    mp_drawing.draw_landmarks(\n",
        "        frame,\n",
        "        lm_list,\n",
        "        mp_hands.HAND_CONNECTIONS)\n",
        "\n",
        "    # log + save (unchanged)\n",
        "    ang = landmarks_to_angles(lm)\n",
        "    append_frame(grp, lm, ang)\n",
        "    out.write(frame)\n",
        "\n",
        "print(\"Processing finished ✔️\")\n"
      ],
      "metadata": {
        "colab": {
          "base_uri": "https://localhost:8080/"
        },
        "id": "MX4k97t4dizX",
        "outputId": "b50782ab-d272-4e36-88cc-2d7259d68164"
      },
      "id": "MX4k97t4dizX",
      "execution_count": 23,
      "outputs": [
        {
          "output_type": "stream",
          "name": "stdout",
          "text": [
            "Processing finished ✔️\n"
          ]
        }
      ]
    },
    {
      "cell_type": "code",
      "source": [
        "# --- tidy-up ---------------------------------------------------\n",
        "cap.release()     # stop reading frames\n",
        "out.release()     # finish writing annotated.mp4\n",
        "h5.close()        # flush & close teleop_sessions.h5\n",
        "\n",
        "print(\"✅  Files closed.\")\n",
        "print(\"• Dataset : teleop_sessions.h5\")\n",
        "print(\"• Video    : annotated.mp4\")\n"
      ],
      "metadata": {
        "colab": {
          "base_uri": "https://localhost:8080/"
        },
        "id": "wsvhQNmyeuqf",
        "outputId": "dd00fcc3-e05c-46a1-e621-0b38c242aa86"
      },
      "id": "wsvhQNmyeuqf",
      "execution_count": 24,
      "outputs": [
        {
          "output_type": "stream",
          "name": "stdout",
          "text": [
            "✅  Files closed.\n",
            "• Dataset : teleop_sessions.h5\n",
            "• Video    : annotated.mp4\n"
          ]
        }
      ]
    },
    {
      "cell_type": "code",
      "source": [
        "from google.colab import files\n",
        "files.download('annotated.mp4')\n",
        "files.download('teleop_sessions.h5')\n"
      ],
      "metadata": {
        "colab": {
          "base_uri": "https://localhost:8080/",
          "height": 17
        },
        "id": "lLMuESLMe-js",
        "outputId": "76f39772-6627-485d-9259-32e93ed81713"
      },
      "id": "lLMuESLMe-js",
      "execution_count": 25,
      "outputs": [
        {
          "output_type": "display_data",
          "data": {
            "text/plain": [
              "<IPython.core.display.Javascript object>"
            ],
            "application/javascript": [
              "\n",
              "    async function download(id, filename, size) {\n",
              "      if (!google.colab.kernel.accessAllowed) {\n",
              "        return;\n",
              "      }\n",
              "      const div = document.createElement('div');\n",
              "      const label = document.createElement('label');\n",
              "      label.textContent = `Downloading \"${filename}\": `;\n",
              "      div.appendChild(label);\n",
              "      const progress = document.createElement('progress');\n",
              "      progress.max = size;\n",
              "      div.appendChild(progress);\n",
              "      document.body.appendChild(div);\n",
              "\n",
              "      const buffers = [];\n",
              "      let downloaded = 0;\n",
              "\n",
              "      const channel = await google.colab.kernel.comms.open(id);\n",
              "      // Send a message to notify the kernel that we're ready.\n",
              "      channel.send({})\n",
              "\n",
              "      for await (const message of channel.messages) {\n",
              "        // Send a message to notify the kernel that we're ready.\n",
              "        channel.send({})\n",
              "        if (message.buffers) {\n",
              "          for (const buffer of message.buffers) {\n",
              "            buffers.push(buffer);\n",
              "            downloaded += buffer.byteLength;\n",
              "            progress.value = downloaded;\n",
              "          }\n",
              "        }\n",
              "      }\n",
              "      const blob = new Blob(buffers, {type: 'application/binary'});\n",
              "      const a = document.createElement('a');\n",
              "      a.href = window.URL.createObjectURL(blob);\n",
              "      a.download = filename;\n",
              "      div.appendChild(a);\n",
              "      a.click();\n",
              "      div.remove();\n",
              "    }\n",
              "  "
            ]
          },
          "metadata": {}
        },
        {
          "output_type": "display_data",
          "data": {
            "text/plain": [
              "<IPython.core.display.Javascript object>"
            ],
            "application/javascript": [
              "download(\"download_e1129d9d-6a20-455d-8580-0dfca928180f\", \"annotated.mp4\", 5291766)"
            ]
          },
          "metadata": {}
        },
        {
          "output_type": "display_data",
          "data": {
            "text/plain": [
              "<IPython.core.display.Javascript object>"
            ],
            "application/javascript": [
              "\n",
              "    async function download(id, filename, size) {\n",
              "      if (!google.colab.kernel.accessAllowed) {\n",
              "        return;\n",
              "      }\n",
              "      const div = document.createElement('div');\n",
              "      const label = document.createElement('label');\n",
              "      label.textContent = `Downloading \"${filename}\": `;\n",
              "      div.appendChild(label);\n",
              "      const progress = document.createElement('progress');\n",
              "      progress.max = size;\n",
              "      div.appendChild(progress);\n",
              "      document.body.appendChild(div);\n",
              "\n",
              "      const buffers = [];\n",
              "      let downloaded = 0;\n",
              "\n",
              "      const channel = await google.colab.kernel.comms.open(id);\n",
              "      // Send a message to notify the kernel that we're ready.\n",
              "      channel.send({})\n",
              "\n",
              "      for await (const message of channel.messages) {\n",
              "        // Send a message to notify the kernel that we're ready.\n",
              "        channel.send({})\n",
              "        if (message.buffers) {\n",
              "          for (const buffer of message.buffers) {\n",
              "            buffers.push(buffer);\n",
              "            downloaded += buffer.byteLength;\n",
              "            progress.value = downloaded;\n",
              "          }\n",
              "        }\n",
              "      }\n",
              "      const blob = new Blob(buffers, {type: 'application/binary'});\n",
              "      const a = document.createElement('a');\n",
              "      a.href = window.URL.createObjectURL(blob);\n",
              "      a.download = filename;\n",
              "      div.appendChild(a);\n",
              "      a.click();\n",
              "      div.remove();\n",
              "    }\n",
              "  "
            ]
          },
          "metadata": {}
        },
        {
          "output_type": "display_data",
          "data": {
            "text/plain": [
              "<IPython.core.display.Javascript object>"
            ],
            "application/javascript": [
              "download(\"download_c3de70fb-baa9-4127-890c-09803db23c3b\", \"teleop_sessions.h5\", 586488)"
            ]
          },
          "metadata": {}
        }
      ]
    },
    {
      "cell_type": "code",
      "source": [],
      "metadata": {
        "colab": {
          "base_uri": "https://localhost:8080/",
          "height": 373
        },
        "id": "guZEGYn5lQX3",
        "outputId": "e55553c2-9d88-476a-a227-597f15c39939"
      },
      "id": "guZEGYn5lQX3",
      "execution_count": 26,
      "outputs": [
        {
          "output_type": "error",
          "ename": "OSError",
          "evalue": "MoviePy error: the file /mnt/data/annotated_twitter.mp4 could not be found!\nPlease check that you entered the correct path.",
          "traceback": [
            "\u001b[0;31m---------------------------------------------------------------------------\u001b[0m",
            "\u001b[0;31mOSError\u001b[0m                                   Traceback (most recent call last)",
            "\u001b[0;32m/tmp/ipython-input-26-3449409383.py\u001b[0m in \u001b[0;36m<cell line: 0>\u001b[0;34m()\u001b[0m\n\u001b[1;32m      8\u001b[0m \u001b[0mout_path\u001b[0m \u001b[0;34m=\u001b[0m \u001b[0;34m\"/mnt/data/annotated_with_audio.mp4\"\u001b[0m\u001b[0;34m\u001b[0m\u001b[0;34m\u001b[0m\u001b[0m\n\u001b[1;32m      9\u001b[0m \u001b[0;34m\u001b[0m\u001b[0m\n\u001b[0;32m---> 10\u001b[0;31m \u001b[0mclip\u001b[0m \u001b[0;34m=\u001b[0m \u001b[0mVideoFileClip\u001b[0m\u001b[0;34m(\u001b[0m\u001b[0min_path\u001b[0m\u001b[0;34m)\u001b[0m\u001b[0;34m\u001b[0m\u001b[0;34m\u001b[0m\u001b[0m\n\u001b[0m\u001b[1;32m     11\u001b[0m \u001b[0;34m\u001b[0m\u001b[0m\n\u001b[1;32m     12\u001b[0m \u001b[0;31m# 1-sec silence (stereo, 44.1 kHz)\u001b[0m\u001b[0;34m\u001b[0m\u001b[0;34m\u001b[0m\u001b[0m\n",
            "\u001b[0;32m/usr/local/lib/python3.11/dist-packages/moviepy/video/io/VideoFileClip.py\u001b[0m in \u001b[0;36m__init__\u001b[0;34m(self, filename, has_mask, audio, audio_buffersize, target_resolution, resize_algorithm, audio_fps, audio_nbytes, verbose, fps_source)\u001b[0m\n\u001b[1;32m     86\u001b[0m         \u001b[0;31m# Make a reader\u001b[0m\u001b[0;34m\u001b[0m\u001b[0;34m\u001b[0m\u001b[0m\n\u001b[1;32m     87\u001b[0m         \u001b[0mpix_fmt\u001b[0m \u001b[0;34m=\u001b[0m \u001b[0;34m\"rgba\"\u001b[0m \u001b[0;32mif\u001b[0m \u001b[0mhas_mask\u001b[0m \u001b[0;32melse\u001b[0m \u001b[0;34m\"rgb24\"\u001b[0m\u001b[0;34m\u001b[0m\u001b[0;34m\u001b[0m\u001b[0m\n\u001b[0;32m---> 88\u001b[0;31m         self.reader = FFMPEG_VideoReader(filename, pix_fmt=pix_fmt,\n\u001b[0m\u001b[1;32m     89\u001b[0m                                          \u001b[0mtarget_resolution\u001b[0m\u001b[0;34m=\u001b[0m\u001b[0mtarget_resolution\u001b[0m\u001b[0;34m,\u001b[0m\u001b[0;34m\u001b[0m\u001b[0;34m\u001b[0m\u001b[0m\n\u001b[1;32m     90\u001b[0m                                          \u001b[0mresize_algo\u001b[0m\u001b[0;34m=\u001b[0m\u001b[0mresize_algorithm\u001b[0m\u001b[0;34m,\u001b[0m\u001b[0;34m\u001b[0m\u001b[0;34m\u001b[0m\u001b[0m\n",
            "\u001b[0;32m/usr/local/lib/python3.11/dist-packages/moviepy/video/io/ffmpeg_reader.py\u001b[0m in \u001b[0;36m__init__\u001b[0;34m(self, filename, print_infos, bufsize, pix_fmt, check_duration, target_resolution, resize_algo, fps_source)\u001b[0m\n\u001b[1;32m     33\u001b[0m         \u001b[0mself\u001b[0m\u001b[0;34m.\u001b[0m\u001b[0mfilename\u001b[0m \u001b[0;34m=\u001b[0m \u001b[0mfilename\u001b[0m\u001b[0;34m\u001b[0m\u001b[0;34m\u001b[0m\u001b[0m\n\u001b[1;32m     34\u001b[0m         \u001b[0mself\u001b[0m\u001b[0;34m.\u001b[0m\u001b[0mproc\u001b[0m \u001b[0;34m=\u001b[0m \u001b[0;32mNone\u001b[0m\u001b[0;34m\u001b[0m\u001b[0;34m\u001b[0m\u001b[0m\n\u001b[0;32m---> 35\u001b[0;31m         infos = ffmpeg_parse_infos(filename, print_infos, check_duration,\n\u001b[0m\u001b[1;32m     36\u001b[0m                                    fps_source)\n\u001b[1;32m     37\u001b[0m         \u001b[0mself\u001b[0m\u001b[0;34m.\u001b[0m\u001b[0mfps\u001b[0m \u001b[0;34m=\u001b[0m \u001b[0minfos\u001b[0m\u001b[0;34m[\u001b[0m\u001b[0;34m'video_fps'\u001b[0m\u001b[0;34m]\u001b[0m\u001b[0;34m\u001b[0m\u001b[0;34m\u001b[0m\u001b[0m\n",
            "\u001b[0;32m/usr/local/lib/python3.11/dist-packages/moviepy/video/io/ffmpeg_reader.py\u001b[0m in \u001b[0;36mffmpeg_parse_infos\u001b[0;34m(filename, print_infos, check_duration, fps_source)\u001b[0m\n\u001b[1;32m    268\u001b[0m     \u001b[0mlines\u001b[0m \u001b[0;34m=\u001b[0m \u001b[0minfos\u001b[0m\u001b[0;34m.\u001b[0m\u001b[0msplitlines\u001b[0m\u001b[0;34m(\u001b[0m\u001b[0;34m)\u001b[0m\u001b[0;34m\u001b[0m\u001b[0;34m\u001b[0m\u001b[0m\n\u001b[1;32m    269\u001b[0m     \u001b[0;32mif\u001b[0m \u001b[0;34m\"No such file or directory\"\u001b[0m \u001b[0;32min\u001b[0m \u001b[0mlines\u001b[0m\u001b[0;34m[\u001b[0m\u001b[0;34m-\u001b[0m\u001b[0;36m1\u001b[0m\u001b[0;34m]\u001b[0m\u001b[0;34m:\u001b[0m\u001b[0;34m\u001b[0m\u001b[0;34m\u001b[0m\u001b[0m\n\u001b[0;32m--> 270\u001b[0;31m         raise IOError((\"MoviePy error: the file %s could not be found!\\n\"\n\u001b[0m\u001b[1;32m    271\u001b[0m                       \u001b[0;34m\"Please check that you entered the correct \"\u001b[0m\u001b[0;34m\u001b[0m\u001b[0;34m\u001b[0m\u001b[0m\n\u001b[1;32m    272\u001b[0m                       \"path.\")%filename)\n",
            "\u001b[0;31mOSError\u001b[0m: MoviePy error: the file /mnt/data/annotated_twitter.mp4 could not be found!\nPlease check that you entered the correct path."
          ]
        }
      ]
    },
    {
      "cell_type": "markdown",
      "id": "28d5e424",
      "metadata": {
        "id": "28d5e424"
      },
      "source": [
        "> **Local Jupyter?** Replace the `files.upload()` block with `cap = cv2.VideoCapture(0)` to stream from your webcam."
      ]
    }
  ],
  "metadata": {
    "colab": {
      "provenance": [],
      "include_colab_link": true
    },
    "language_info": {
      "name": "python"
    },
    "kernelspec": {
      "name": "python3",
      "display_name": "Python 3"
    }
  },
  "nbformat": 4,
  "nbformat_minor": 5
}